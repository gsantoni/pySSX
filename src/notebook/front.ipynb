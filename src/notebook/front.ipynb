{
 "cells": [
  {
   "cell_type": "code",
   "execution_count": 35,
   "metadata": {},
   "outputs": [],
   "source": [
    "import matplotlib.pyplot as plt\n",
    "from src import crystfel_launcher\n"
   ]
  },
  {
   "cell_type": "code",
   "execution_count": 36,
   "metadata": {},
   "outputs": [],
   "source": [
    "#in this cell the user can define the different parameters for the processing. defaults are to be documented\n",
    "# the defined parameters are passed as kwargs to Crystfel_launcher below\n",
    "\n",
    "indexingMethod = 'taketwo'\n",
    "image_directory = 'path/to/frames'\n"
   ]
  },
  {
   "cell_type": "code",
   "execution_count": 37,
   "metadata": {},
   "outputs": [
    {
     "name": "stdout",
     "output_type": "stream",
     "text": [
      "indexamajig -i files.lst --peaks=peakfinder8 --threshold=10 --int-radius=3,4,5 --indexing=taketwo\n"
     ]
    }
   ],
   "source": [
    "a = crystfel_launcher.Crystfel_launcher(\"a\", \"b\", indexing_method = indexingMethod)\n",
    "print(a.prepareLaunchCommand())\n"
   ]
  }
 ],
 "metadata": {
  "kernelspec": {
   "display_name": "Python 3.7.7 ('base')",
   "language": "python",
   "name": "python3"
  },
  "language_info": {
   "codemirror_mode": {
    "name": "ipython",
    "version": 3
   },
   "file_extension": ".py",
   "mimetype": "text/x-python",
   "name": "python",
   "nbconvert_exporter": "python",
   "pygments_lexer": "ipython3",
   "version": "3.7.7"
  },
  "orig_nbformat": 4,
  "vscode": {
   "interpreter": {
    "hash": "3919620f12d93098bc552735d58a2c0622e0dd4d3a7292372a29201c40170e3f"
   }
  }
 },
 "nbformat": 4,
 "nbformat_minor": 2
}
